{
 "cells": [
  {
   "cell_type": "markdown",
   "metadata": {},
   "source": [
    "# Imports/Device Settings/Utils"
   ]
  },
  {
   "cell_type": "code",
   "execution_count": 3,
   "metadata": {},
   "outputs": [],
   "source": [
    "import numpy as np\n",
    "import torch\n",
    "import torch.nn as nn\n",
    "import torchvision.transforms as transforms\n",
    "import matplotlib.pyplot as plt\n",
    "import utils\n",
    "\n",
    "from PIL import Image"
   ]
  },
  {
   "cell_type": "code",
   "execution_count": 4,
   "metadata": {},
   "outputs": [
    {
     "name": "stdout",
     "output_type": "stream",
     "text": [
      "Using cpu device\n"
     ]
    }
   ],
   "source": [
    "device = (\n",
    "    \"cuda\"\n",
    "    if torch.cuda.is_available()\n",
    "    else \"cpu\"\n",
    ")\n",
    "\n",
    "print(f\"Using {device} device\")\n",
    "torch.set_default_device(device)\n",
    "torch.set_default_dtype(torch.float32)\n",
    "\n",
    "\n",
    "IMAGE_DIM = 48"
   ]
  },
  {
   "cell_type": "code",
   "execution_count": 3,
   "metadata": {},
   "outputs": [],
   "source": [
    "ground_truth_images = np.load(\"training.npy\")"
   ]
  },
  {
   "cell_type": "markdown",
   "metadata": {},
   "source": [
    "##  If you don't have the above dataset:"
   ]
  },
  {
   "cell_type": "code",
   "execution_count": 6,
   "metadata": {},
   "outputs": [
    {
     "name": "stdout",
     "output_type": "stream",
     "text": [
      "image 0\n",
      "image 1000\n",
      "image 2000\n",
      "image 3000\n",
      "image 4000\n",
      "image 5000\n",
      "image 6000\n",
      "image 7000\n",
      "image 8000\n",
      "image 9000\n",
      "image 10000\n",
      "image 11000\n",
      "image 12000\n",
      "image 13000\n",
      "image 14000\n",
      "image 15000\n",
      "image 16000\n",
      "image 17000\n",
      "image 18000\n",
      "image 19000\n",
      "image 20000\n",
      "image 21000\n",
      "image 22000\n",
      "image 23000\n",
      "image 24000\n",
      "image 25000\n",
      "image 26000\n",
      "image 27000\n",
      "image 28000\n"
     ]
    }
   ],
   "source": [
    "ground_truth_images = np.zeros((28709, 1, IMAGE_DIM, IMAGE_DIM), np.float32)\n",
    "utils.create_training_data(\"../archive/train/\", ground_truth_images)\n",
    "\n",
    "#normalizations step\n",
    "ground_truth_images = np.multiply(ground_truth_images, 1/255)\n",
    "np.save(\"training.npy\", ground_truth_images)"
   ]
  },
  {
   "cell_type": "markdown",
   "metadata": {},
   "source": [
    "## Then back to relevant code:"
   ]
  },
  {
   "cell_type": "code",
   "execution_count": 7,
   "metadata": {},
   "outputs": [
    {
     "name": "stdout",
     "output_type": "stream",
     "text": [
      "Image 0\n",
      "Image 1000\n",
      "Image 2000\n",
      "Image 3000\n",
      "Image 4000\n",
      "Image 5000\n",
      "Image 6000\n",
      "Image 7000\n",
      "Image 8000\n",
      "Image 9000\n",
      "Image 10000\n",
      "Image 11000\n",
      "Image 12000\n",
      "Image 13000\n",
      "Image 14000\n",
      "Image 15000\n",
      "Image 16000\n",
      "Image 17000\n",
      "Image 18000\n",
      "Image 19000\n",
      "Image 20000\n",
      "Image 21000\n",
      "Image 22000\n",
      "Image 23000\n",
      "Image 24000\n",
      "Image 25000\n",
      "Image 26000\n",
      "Image 27000\n",
      "Image 28000\n"
     ]
    }
   ],
   "source": [
    "# Create A.T*y\n",
    "# CHOOSE SAMPLING RATE HERE\n",
    "\n",
    "p = IMAGE_DIM**2\n",
    "n = int(0.5*p)\n",
    "A = np.random.normal(loc=0, scale=1/n, size=(n, p))\n",
    "\n",
    "added_noise_images = np.zeros((28709, 1, IMAGE_DIM, IMAGE_DIM), np.float32)\n",
    "\n",
    "i = 0\n",
    "for image in ground_truth_images:\n",
    "    if (i%1000==0):\n",
    "        print(f\"Image {i}\")\n",
    "    x = ground_truth_images[i][0]\n",
    "    x = np.reshape(x, (2304), 'F')\n",
    "\n",
    "    added_noise_images[i][0] = np.reshape(np.matmul(A.T, np.matmul(A, x)), (IMAGE_DIM, IMAGE_DIM), 'F')\n",
    "    i += 1\n"
   ]
  },
  {
   "cell_type": "code",
   "execution_count": 8,
   "metadata": {},
   "outputs": [
    {
     "name": "stdout",
     "output_type": "stream",
     "text": [
      "(28709, 1, 48, 48)\n",
      "(28709, 1, 48, 48)\n"
     ]
    }
   ],
   "source": [
    "print(np.shape(ground_truth_images))\n",
    "print(np.shape(added_noise_images))\n",
    "\n",
    "clean = torch.as_tensor(ground_truth_images, dtype=torch.float32)\n",
    "noisy = torch.as_tensor(added_noise_images, dtype=torch.float32)\n",
    "\n",
    "# Set training dictionary\n",
    "\n",
    "train = {\"noisy\" : noisy[ : 25000],\n",
    "        \"clean\" : clean[ : 25000]}\n",
    "\n",
    "# Set validation dictionary\n",
    "validation = {\"noisy\" : noisy[25000 : ],\n",
    "        \"clean\" : clean[25000 : ]}"
   ]
  },
  {
   "cell_type": "markdown",
   "metadata": {},
   "source": [
    "## Then back to relevant calculations:"
   ]
  },
  {
   "cell_type": "code",
   "execution_count": 9,
   "metadata": {
    "scrolled": true
   },
   "outputs": [
    {
     "name": "stdout",
     "output_type": "stream",
     "text": [
      "# of test images: 25000\n",
      "Avg. PSNR: 4.33\n"
     ]
    }
   ],
   "source": [
    "# A priori PSNR calculation\n",
    "test_number = len(train[\"noisy\"])\n",
    "print(f\"# of test images: {test_number}\")\n",
    "\n",
    "ante_psnr = utils.avg_psnr(300, train[\"noisy\"], train[\"clean\"])\n",
    "print(f\"Avg. PSNR: {round(ante_psnr, 2)}\")"
   ]
  },
  {
   "cell_type": "code",
   "execution_count": 12,
   "metadata": {
    "scrolled": true
   },
   "outputs": [
    {
     "data": {
      "image/png": "[encoded data removed]",
      "text/plain": [
       "<Figure size 640x480 with 2 Axes>"
      ]
     },
     "metadata": {},
     "output_type": "display_data"
    },
    {
     "data": {
      "image/png": "[encoded data removed]",
      "text/plain": [
       "<Figure size 640x480 with 2 Axes>"
      ]
     },
     "metadata": {},
     "output_type": "display_data"
    }
   ],
   "source": [
    "# Optional - compare noisy vs. clean image\n",
    "sample_no = 0\n",
    "im1 = utils.detach(noisy[sample_no][0])\n",
    "im2 = utils.detach(clean[sample_no][0])\n",
    "utils.show_images(im1, im2)\n",
    "\n",
    "# Optional - test pixel distributions\n",
    "utils.show_images_hist(im1, im2)"
   ]
  },
  {
   "cell_type": "markdown",
   "metadata": {},
   "source": [
    "# Proof of inverse problem setup"
   ]
  },
  {
   "cell_type": "code",
   "execution_count": null,
   "metadata": {},
   "outputs": [],
   "source": [
    "temp = ground_truth_images[0][0]\n",
    "column1 = temp[0:10, 0]\n",
    "print(column1)\n",
    "\n",
    "columns = np.reshape(temp, (2304), 'F')\n",
    "print(columns[0:10])\n",
    "\n",
    "#temp = np.rot90(np.flip(temp, 1), 1)\n",
    "#temp = np.reshape(temp, (48*48))\n",
    "#print(temp[0:10])"
   ]
  },
  {
   "cell_type": "code",
   "execution_count": null,
   "metadata": {},
   "outputs": [],
   "source": [
    "p = len(temp)\n",
    "n = int(p/2)\n",
    "print(p, n)\n",
    "\n",
    "A = np.random.normal(loc=0, scale=1/n, size=(n, p))\n",
    "\n",
    "y = np.matmul(A, temp)\n",
    "\n",
    "Ay = np.matmul(A.T, y)\n",
    "\n",
    "Ay = np.reshape(Ay, (48, 48), 'F')\n",
    "\n",
    "plt.imshow(Ay, cmap='gray')"
   ]
  },
  {
   "cell_type": "markdown",
   "metadata": {},
   "source": [
    "# U-net architecture"
   ]
  },
  {
   "cell_type": "code",
   "execution_count": 13,
   "metadata": {},
   "outputs": [
    {
     "data": {
      "text/plain": [
       "UNet(\n",
       "  (conv1_1): ConvBlock(\n",
       "    (conv1): Conv2d(1, 64, kernel_size=(3, 3), stride=(1, 1), padding=(1, 1))\n",
       "    (actv1): ReLU()\n",
       "  )\n",
       "  (conv1_2): ConvBlock(\n",
       "    (conv1): Conv2d(64, 64, kernel_size=(3, 3), stride=(1, 1), padding=(1, 1))\n",
       "    (actv1): ReLU()\n",
       "  )\n",
       "  (maxPool1): MaxPool2d(kernel_size=2, stride=2, padding=0, dilation=1, ceil_mode=False)\n",
       "  (conv2_1): ConvBlock(\n",
       "    (conv1): Conv2d(64, 128, kernel_size=(3, 3), stride=(1, 1), padding=(1, 1))\n",
       "    (actv1): ReLU()\n",
       "  )\n",
       "  (conv2_2): ConvBlock(\n",
       "    (conv1): Conv2d(128, 128, kernel_size=(3, 3), stride=(1, 1), padding=(1, 1))\n",
       "    (actv1): ReLU()\n",
       "  )\n",
       "  (convTranspose1): ConvTranspose2d(128, 64, kernel_size=(2, 2), stride=(2, 2))\n",
       "  (conv3_1): ConvBlock(\n",
       "    (conv1): Conv2d(128, 64, kernel_size=(3, 3), stride=(1, 1), padding=(1, 1))\n",
       "    (actv1): ReLU()\n",
       "  )\n",
       "  (conv3_2): ConvBlock(\n",
       "    (conv1): Conv2d(64, 1, kernel_size=(3, 3), stride=(1, 1), padding=(1, 1))\n",
       "    (actv1): ReLU()\n",
       "  )\n",
       ")"
      ]
     },
     "execution_count": 13,
     "metadata": {},
     "output_type": "execute_result"
    }
   ],
   "source": [
    "# Establish neural network model\n",
    "\n",
    "class ConvBlock(nn.Module):\n",
    "    def __init__(self, in_channels, out_channels):\n",
    "        super(ConvBlock, self).__init__()\n",
    "        self.conv1 = nn.Conv2d(in_channels, out_channels, kernel_size=3, stride=1, padding=1)\n",
    "        self.actv1 = nn.ReLU()\n",
    "\n",
    "    def forward(self, x):\n",
    "        x = self.actv1(self.conv1(x))\n",
    "        return x\n",
    "\n",
    "class UNet(nn.Module):\n",
    "    def __init__(self):\n",
    "        super(UNet, self).__init__()\n",
    "\n",
    "        #1 if batched, 0 if unbatched\n",
    "        self.cat_dim = 1\n",
    "\n",
    "        self.conv1_1 = ConvBlock(in_channels=1, out_channels=64)\n",
    "        self.conv1_2 = ConvBlock(in_channels=64, out_channels=64)\n",
    "\n",
    "        self.maxPool1 = nn.MaxPool2d(kernel_size=2)\n",
    "\n",
    "        self.conv2_1 = ConvBlock(in_channels=64, out_channels=128)\n",
    "        self.conv2_2 = ConvBlock(in_channels=128, out_channels=128)\n",
    "\n",
    "        self.convTranspose1 = nn.ConvTranspose2d(in_channels=128, out_channels=64, kernel_size=2, stride=2)\n",
    "\n",
    "        #DONT FORGET TO ADD CONCATENATION CHANNELS\n",
    "        self.conv3_1 = ConvBlock(in_channels=128, out_channels=64)\n",
    "        self.conv3_2 = ConvBlock(in_channels=64, out_channels=1)\n",
    "\n",
    "    def forward(self, x):\n",
    "        x = self.conv1_2(self.conv1_1(x))\n",
    "\n",
    "        skip_connect = x\n",
    "\n",
    "        x = self.maxPool1(x)\n",
    "\n",
    "        x = self.conv2_2(self.conv2_1(x))\n",
    "\n",
    "        x = self.convTranspose1(x)\n",
    "\n",
    "        x = torch.cat([skip_connect, x], self.cat_dim)\n",
    "\n",
    "        x = self.conv3_2(self.conv3_1(x))\n",
    "\n",
    "        return x\n",
    "\n",
    "unet = UNet()\n",
    "unet = unet.to(device)\n",
    "unet.train()"
   ]
  },
  {
   "cell_type": "markdown",
   "metadata": {},
   "source": [
    "# Optional Tests"
   ]
  },
  {
   "cell_type": "code",
   "execution_count": 14,
   "metadata": {},
   "outputs": [
    {
     "name": "stdout",
     "output_type": "stream",
     "text": [
      "Input:  torch.Size([2, 1, 48, 48])\n",
      "UNet Output:  torch.Size([2, 1, 48, 48])\n"
     ]
    }
   ],
   "source": [
    "# OPTIONAL\n",
    "# Testing input/output sizes\n",
    "input = torch.randn(2, 1, IMAGE_DIM, IMAGE_DIM)\n",
    "print(\"Input: \", np.shape(input))\n",
    "\n",
    "output1 = unet(input)\n",
    "print(\"UNet Output: \", np.shape(output1))"
   ]
  },
  {
   "cell_type": "markdown",
   "metadata": {},
   "source": [
    "# Training the Model"
   ]
  },
  {
   "cell_type": "markdown",
   "metadata": {},
   "source": [
    "### Set hyperparameters"
   ]
  },
  {
   "cell_type": "code",
   "execution_count": 15,
   "metadata": {},
   "outputs": [],
   "source": [
    "epochs = 5\n",
    "batch_size = 20\n",
    "lr = 1e-5\n",
    "loss_fn = nn.MSELoss()\n",
    "optimizer = torch.optim.Adam(unet.parameters(), lr=lr)"
   ]
  },
  {
   "cell_type": "code",
   "execution_count": 16,
   "metadata": {},
   "outputs": [
    {
     "name": "stdout",
     "output_type": "stream",
     "text": [
      "Starting training...\n",
      "tensor(0.3782, grad_fn=<MseLossBackward0>)\n"
     ]
    },
    {
     "ename": "KeyboardInterrupt",
     "evalue": "",
     "output_type": "error",
     "traceback": [
      "\u001b[0;31m---------------------------------------------------------------------------\u001b[0m",
      "\u001b[0;31mKeyboardInterrupt\u001b[0m                         Traceback (most recent call last)",
      "Cell \u001b[0;32mIn[16], line 2\u001b[0m\n\u001b[1;32m      1\u001b[0m \u001b[39m# Training\u001b[39;00m\n\u001b[0;32m----> 2\u001b[0m loss_record \u001b[39m=\u001b[39m utils\u001b[39m.\u001b[39;49mtrain(\n\u001b[1;32m      3\u001b[0m     x\u001b[39m=\u001b[39;49mtrain[\u001b[39m\"\u001b[39;49m\u001b[39mnoisy\u001b[39;49m\u001b[39m\"\u001b[39;49m],\n\u001b[1;32m      4\u001b[0m     y\u001b[39m=\u001b[39;49mtrain[\u001b[39m\"\u001b[39;49m\u001b[39mclean\u001b[39;49m\u001b[39m\"\u001b[39;49m],\n\u001b[1;32m      5\u001b[0m     neural_network\u001b[39m=\u001b[39;49munet,\n\u001b[1;32m      6\u001b[0m     epochs\u001b[39m=\u001b[39;49mepochs,\n\u001b[1;32m      7\u001b[0m     batch_size\u001b[39m=\u001b[39;49mbatch_size,\n\u001b[1;32m      8\u001b[0m     learning_rate\u001b[39m=\u001b[39;49mlr,\n\u001b[1;32m      9\u001b[0m     loss_function\u001b[39m=\u001b[39;49mloss_fn,\n\u001b[1;32m     10\u001b[0m     optimizer\u001b[39m=\u001b[39;49moptimizer\n\u001b[1;32m     11\u001b[0m )\n",
      "File \u001b[0;32m~/Downloads/research/Compressed Sensing/utils.py:88\u001b[0m, in \u001b[0;36mtrain\u001b[0;34m(x, y, neural_network, epochs, batch_size, learning_rate, loss_function, optimizer)\u001b[0m\n\u001b[1;32m     86\u001b[0m     \u001b[39mprint\u001b[39m(loss)\n\u001b[1;32m     87\u001b[0m epoch_loss \u001b[39m+\u001b[39m\u001b[39m=\u001b[39m loss\n\u001b[0;32m---> 88\u001b[0m loss\u001b[39m.\u001b[39;49mbackward()\n\u001b[1;32m     89\u001b[0m optimizer\u001b[39m.\u001b[39mstep()\n\u001b[1;32m     91\u001b[0m i \u001b[39m+\u001b[39m\u001b[39m=\u001b[39m batch_size\n",
      "File \u001b[0;32m/opt/homebrew/lib/python3.11/site-packages/torch/_tensor.py:478\u001b[0m, in \u001b[0;36mTensor.backward\u001b[0;34m(self, gradient, retain_graph, create_graph, inputs)\u001b[0m\n\u001b[1;32m    431\u001b[0m \u001b[39m\u001b[39m\u001b[39mr\u001b[39m\u001b[39m\"\"\"Computes the gradient of current tensor w.r.t. graph leaves.\u001b[39;00m\n\u001b[1;32m    432\u001b[0m \n\u001b[1;32m    433\u001b[0m \u001b[39mThe graph is differentiated using the chain rule. If the tensor is\u001b[39;00m\n\u001b[0;32m   (...)\u001b[0m\n\u001b[1;32m    475\u001b[0m \u001b[39m        used to compute the attr::tensors.\u001b[39;00m\n\u001b[1;32m    476\u001b[0m \u001b[39m\"\"\"\u001b[39;00m\n\u001b[1;32m    477\u001b[0m \u001b[39mif\u001b[39;00m has_torch_function_unary(\u001b[39mself\u001b[39m):\n\u001b[0;32m--> 478\u001b[0m     \u001b[39mreturn\u001b[39;00m handle_torch_function(\n\u001b[1;32m    479\u001b[0m         Tensor\u001b[39m.\u001b[39;49mbackward,\n\u001b[1;32m    480\u001b[0m         (\u001b[39mself\u001b[39;49m,),\n\u001b[1;32m    481\u001b[0m         \u001b[39mself\u001b[39;49m,\n\u001b[1;32m    482\u001b[0m         gradient\u001b[39m=\u001b[39;49mgradient,\n\u001b[1;32m    483\u001b[0m         retain_graph\u001b[39m=\u001b[39;49mretain_graph,\n\u001b[1;32m    484\u001b[0m         create_graph\u001b[39m=\u001b[39;49mcreate_graph,\n\u001b[1;32m    485\u001b[0m         inputs\u001b[39m=\u001b[39;49minputs,\n\u001b[1;32m    486\u001b[0m     )\n\u001b[1;32m    487\u001b[0m torch\u001b[39m.\u001b[39mautograd\u001b[39m.\u001b[39mbackward(\n\u001b[1;32m    488\u001b[0m     \u001b[39mself\u001b[39m, gradient, retain_graph, create_graph, inputs\u001b[39m=\u001b[39minputs\n\u001b[1;32m    489\u001b[0m )\n",
      "File \u001b[0;32m/opt/homebrew/lib/python3.11/site-packages/torch/overrides.py:1534\u001b[0m, in \u001b[0;36mhandle_torch_function\u001b[0;34m(public_api, relevant_args, *args, **kwargs)\u001b[0m\n\u001b[1;32m   1530\u001b[0m \u001b[39mif\u001b[39;00m _is_torch_function_mode_enabled():\n\u001b[1;32m   1531\u001b[0m     \u001b[39m# if we're here, the mode must be set to a TorchFunctionStackMode\u001b[39;00m\n\u001b[1;32m   1532\u001b[0m     \u001b[39m# this unsets it and calls directly into TorchFunctionStackMode's torch function\u001b[39;00m\n\u001b[1;32m   1533\u001b[0m     \u001b[39mwith\u001b[39;00m _pop_mode_temporarily() \u001b[39mas\u001b[39;00m mode:\n\u001b[0;32m-> 1534\u001b[0m         result \u001b[39m=\u001b[39m mode\u001b[39m.\u001b[39;49m__torch_function__(public_api, types, args, kwargs)\n\u001b[1;32m   1535\u001b[0m     \u001b[39mif\u001b[39;00m result \u001b[39mis\u001b[39;00m \u001b[39mnot\u001b[39;00m \u001b[39mNotImplemented\u001b[39m:\n\u001b[1;32m   1536\u001b[0m         \u001b[39mreturn\u001b[39;00m result\n",
      "File \u001b[0;32m/opt/homebrew/lib/python3.11/site-packages/torch/utils/_device.py:62\u001b[0m, in \u001b[0;36mDeviceContext.__torch_function__\u001b[0;34m(self, func, types, args, kwargs)\u001b[0m\n\u001b[1;32m     60\u001b[0m \u001b[39mif\u001b[39;00m func \u001b[39min\u001b[39;00m _device_constructors() \u001b[39mand\u001b[39;00m kwargs\u001b[39m.\u001b[39mget(\u001b[39m'\u001b[39m\u001b[39mdevice\u001b[39m\u001b[39m'\u001b[39m) \u001b[39mis\u001b[39;00m \u001b[39mNone\u001b[39;00m:\n\u001b[1;32m     61\u001b[0m     kwargs[\u001b[39m'\u001b[39m\u001b[39mdevice\u001b[39m\u001b[39m'\u001b[39m] \u001b[39m=\u001b[39m \u001b[39mself\u001b[39m\u001b[39m.\u001b[39mdevice\n\u001b[0;32m---> 62\u001b[0m \u001b[39mreturn\u001b[39;00m func(\u001b[39m*\u001b[39;49margs, \u001b[39m*\u001b[39;49m\u001b[39m*\u001b[39;49mkwargs)\n",
      "File \u001b[0;32m/opt/homebrew/lib/python3.11/site-packages/torch/_tensor.py:487\u001b[0m, in \u001b[0;36mTensor.backward\u001b[0;34m(self, gradient, retain_graph, create_graph, inputs)\u001b[0m\n\u001b[1;32m    477\u001b[0m \u001b[39mif\u001b[39;00m has_torch_function_unary(\u001b[39mself\u001b[39m):\n\u001b[1;32m    478\u001b[0m     \u001b[39mreturn\u001b[39;00m handle_torch_function(\n\u001b[1;32m    479\u001b[0m         Tensor\u001b[39m.\u001b[39mbackward,\n\u001b[1;32m    480\u001b[0m         (\u001b[39mself\u001b[39m,),\n\u001b[0;32m   (...)\u001b[0m\n\u001b[1;32m    485\u001b[0m         inputs\u001b[39m=\u001b[39minputs,\n\u001b[1;32m    486\u001b[0m     )\n\u001b[0;32m--> 487\u001b[0m torch\u001b[39m.\u001b[39;49mautograd\u001b[39m.\u001b[39;49mbackward(\n\u001b[1;32m    488\u001b[0m     \u001b[39mself\u001b[39;49m, gradient, retain_graph, create_graph, inputs\u001b[39m=\u001b[39;49minputs\n\u001b[1;32m    489\u001b[0m )\n",
      "File \u001b[0;32m/opt/homebrew/lib/python3.11/site-packages/torch/autograd/__init__.py:200\u001b[0m, in \u001b[0;36mbackward\u001b[0;34m(tensors, grad_tensors, retain_graph, create_graph, grad_variables, inputs)\u001b[0m\n\u001b[1;32m    195\u001b[0m     retain_graph \u001b[39m=\u001b[39m create_graph\n\u001b[1;32m    197\u001b[0m \u001b[39m# The reason we repeat same the comment below is that\u001b[39;00m\n\u001b[1;32m    198\u001b[0m \u001b[39m# some Python versions print out the first line of a multi-line function\u001b[39;00m\n\u001b[1;32m    199\u001b[0m \u001b[39m# calls in the traceback and some print out the last line\u001b[39;00m\n\u001b[0;32m--> 200\u001b[0m Variable\u001b[39m.\u001b[39;49m_execution_engine\u001b[39m.\u001b[39;49mrun_backward(  \u001b[39m# Calls into the C++ engine to run the backward pass\u001b[39;49;00m\n\u001b[1;32m    201\u001b[0m     tensors, grad_tensors_, retain_graph, create_graph, inputs,\n\u001b[1;32m    202\u001b[0m     allow_unreachable\u001b[39m=\u001b[39;49m\u001b[39mTrue\u001b[39;49;00m, accumulate_grad\u001b[39m=\u001b[39;49m\u001b[39mTrue\u001b[39;49;00m)\n",
      "\u001b[0;31mKeyboardInterrupt\u001b[0m: "
     ]
    }
   ],
   "source": [
    "# Training\n",
    "loss_record = utils.train(\n",
    "    x=train[\"noisy\"],\n",
    "    y=train[\"clean\"],\n",
    "    neural_network=unet,\n",
    "    epochs=epochs,\n",
    "    batch_size=batch_size,\n",
    "    learning_rate=lr,\n",
    "    loss_function=loss_fn,\n",
    "    optimizer=optimizer\n",
    ")"
   ]
  },
  {
   "cell_type": "markdown",
   "metadata": {},
   "source": [
    "# Loss graph"
   ]
  },
  {
   "cell_type": "code",
   "execution_count": 12,
   "metadata": {},
   "outputs": [
    {
     "data": {
      "image/png": "[encoded data removed]",
      "text/plain": [
       "<Figure size 432x288 with 1 Axes>"
      ]
     },
     "metadata": {
      "needs_background": "light"
     },
     "output_type": "display_data"
    }
   ],
   "source": [
    "epoch_record = np.arange(0, len(loss_record), 1)\n",
    "plt.plot(epoch_record, loss_record, c=\"red\", label=\"U-Net\")\n",
    "plt.legend(loc=\"upper right\")\n",
    "plt.title(f\"Training loss over {epochs} epochs\")\n",
    "plt.xlabel(\"Epochs\")\n",
    "plt.ylabel(\"MSE\")\n",
    "plt.show()"
   ]
  },
  {
   "cell_type": "markdown",
   "metadata": {},
   "source": [
    "# Tests/PSNR Calculations"
   ]
  },
  {
   "cell_type": "code",
   "execution_count": null,
   "metadata": {
    "scrolled": true
   },
   "outputs": [],
   "source": [
    "unet.eval()"
   ]
  },
  {
   "cell_type": "code",
   "execution_count": null,
   "metadata": {},
   "outputs": [],
   "source": [
    "# Choose between [0, 19]\n",
    "sample_number = 1\n",
    "test_size = 20\n",
    "\n",
    "# Test visual recovery results\n",
    "with torch.no_grad():\n",
    "    unet_pred = utils.detach(unet(validation[\"noisy\"][0:test_size]))"
   ]
  },
  {
   "cell_type": "code",
   "execution_count": null,
   "metadata": {},
   "outputs": [],
   "source": []
  }
 ],
 "metadata": {
  "kernelspec": {
   "display_name": "Python 3 (ipykernel)",
   "language": "python",
   "name": "python3"
  },
  "language_info": {
   "codemirror_mode": {
    "name": "ipython",
    "version": 3
   },
   "file_extension": ".py",
   "mimetype": "text/x-python",
   "name": "python",
   "nbconvert_exporter": "python",
   "pygments_lexer": "ipython3",
   "version": "3.11.4"
  }
 },
 "nbformat": 4,
 "nbformat_minor": 2
}
